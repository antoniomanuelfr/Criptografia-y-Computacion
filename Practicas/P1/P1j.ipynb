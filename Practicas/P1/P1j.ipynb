{
 "cells": [
  {
   "cell_type": "markdown",
   "metadata": {},
   "source": [
    "# CRIPTOGRAFIA P1"
   ]
  },
  {
   "cell_type": "code",
   "execution_count": 1,
   "metadata": {},
   "outputs": [],
   "source": [
    "from random import randint\n",
    "\n",
    "def potencia_modular(x,y,z):\n",
    "    aux = 1\n",
    "    while y>0:\n",
    "        if (y%2==1):\n",
    "            aux = (aux * x)%z\n",
    "        x *= x\n",
    "        y = y//2\n",
    "        x%=z\n",
    "    return aux\n",
    "\n",
    "def Descomponer (a): \n",
    "    cont = 0 \n",
    "    b = a\n",
    "    while b % 2 == 0: \n",
    "        cont = cont + 1\n",
    "        b = b //  2\n",
    "    return cont, b\n",
    "\n",
    "def miller_rabin (p):\n",
    "\n",
    "    if p >= 5 and p %2 ==1:\n",
    "        \n",
    "        u,s = Descomponer (p-1)\n",
    "        a = randint(2, p-2)\n",
    "        \n",
    "        print (\"Estamos usando como testigo: a = \", a)\n",
    "        \n",
    "        res = potencia_modular(a,s,p)\n",
    "\n",
    "        print (a, \"^\", s, \" = \", res, \"mod \", p)\n",
    "\n",
    "        if res == 1 or res == p-1: \n",
    "            return True\n",
    "\n",
    "        for i in range (1,u):\n",
    "            a *= a\n",
    "            res = potencia_modular(a,s,p)\n",
    "            \n",
    "            print (a, \"^\", s*(2**i), \" = \", res, \"mod \", p)\n",
    "            \n",
    "            if res == p-1:\n",
    "                return True\n",
    "            elif res ==1:\n",
    "                return False\n",
    "    \n",
    "    return False\n"
   ]
  },
  {
   "cell_type": "markdown",
   "metadata": {},
   "source": [
    "## Test de Miller-Rabin  pag 192\n",
    "¿m es primo? \n",
    "m-1 = 2^n *s (numero de veces que se puede multpilicar por dos):\n",
    "\n",
    "Elegimos a <=a<=m-2\n",
    "\n",
    "a ^5 \n",
    "a^25 \n",
    ". \n",
    ".\n",
    ".\n",
    "a^m-1\n",
    "\n",
    "Es primo si en algun momento antes de m-1 sale -1.\n",
    "\n",
    "Te dice si es probable que sea primo, la probabilidad de que falle para un numero no primo es menor que 1/4\n",
    "\n",
    " ## Ejercicio \n",
    " \n",
    " 1. Test de primalidad\n",
    " 2. Pruebas test de primalidad\n",
    " 3. Siguiente primo.\n",
    " 4. Siguiente rimo fuerte (p es primo y (p-1)/2\n",
    " 5. Primo de n bits (numero que esta entre $ 2^{n-1}\\leq p < 2^n $\n",
    " 6. Probar con 6601, 8911, 10585, 15841 (Para cual y donde falla).\n",
    " 7. Elegios 2 numeros compuestos grandes \n",
    " 8. 2199733160881\n",
    " 9. 3215061751"
   ]
  },
  {
   "cell_type": "markdown",
   "metadata": {},
   "source": [
    "## Pruebas con el test de primalidad"
   ]
  },
  {
   "cell_type": "code",
   "execution_count": 2,
   "metadata": {},
   "outputs": [
    {
     "name": "stdout",
     "output_type": "stream",
     "text": [
      "Estamos usando como testigo: a =  59\n",
      "59 ^ 35  =  155 mod  561\n",
      "3481 ^ 70  =  463 mod  561\n",
      "12117361 ^ 140  =  67 mod  561\n",
      "146830437604321 ^ 280  =  1 mod  561\n",
      "No es primo\n",
      "\n",
      "Estamos usando como testigo: a =  250\n",
      "250 ^ 35  =  538 mod  561\n",
      "62500 ^ 70  =  529 mod  561\n",
      "3906250000 ^ 140  =  463 mod  561\n",
      "15258789062500000000 ^ 280  =  67 mod  561\n",
      "No es primo\n",
      "\n",
      "Estamos usando como testigo: a =  373\n",
      "373 ^ 35  =  373 mod  561\n",
      "139129 ^ 70  =  1 mod  561\n",
      "No es primo\n",
      "\n",
      "Estamos usando como testigo: a =  128\n",
      "128 ^ 35  =  32 mod  561\n",
      "16384 ^ 70  =  463 mod  561\n",
      "268435456 ^ 140  =  67 mod  561\n",
      "72057594037927936 ^ 280  =  1 mod  561\n",
      "No es primo\n",
      "\n",
      "Estamos usando como testigo: a =  220\n",
      "220 ^ 35  =  220 mod  561\n",
      "48400 ^ 70  =  154 mod  561\n",
      "2342560000 ^ 140  =  154 mod  561\n",
      "5487587353600000000 ^ 280  =  154 mod  561\n",
      "No es primo\n",
      "\n"
     ]
    }
   ],
   "source": [
    "for i in range (5):\n",
    "    if Miller_Rabin(561):\n",
    "        print (\"Posible primo\\n\")\n",
    "    else:\n",
    "        print (\"No es primo\\n\")\n",
    "\n"
   ]
  },
  {
   "cell_type": "markdown",
   "metadata": {},
   "source": [
    "## Siguiente primo\n"
   ]
  },
  {
   "cell_type": "code",
   "execution_count": null,
   "metadata": {},
   "outputs": [],
   "source": []
  }
 ],
 "metadata": {
  "kernelspec": {
   "display_name": "Python 3",
   "language": "python",
   "name": "python3"
  },
  "language_info": {
   "codemirror_mode": {
    "name": "ipython",
    "version": 3
   },
   "file_extension": ".py",
   "mimetype": "text/x-python",
   "name": "python",
   "nbconvert_exporter": "python",
   "pygments_lexer": "ipython3",
   "version": "3.7.1"
  }
 },
 "nbformat": 4,
 "nbformat_minor": 2
}
