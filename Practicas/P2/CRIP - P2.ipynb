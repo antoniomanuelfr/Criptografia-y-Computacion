{
 "cells": [
  {
   "cell_type": "markdown",
   "metadata": {},
   "source": [
    "# Criptografía Practica 2"
   ]
  },
  {
   "cell_type": "code",
   "execution_count": 1,
   "metadata": {},
   "outputs": [],
   "source": [
    "import Funciones as fc "
   ]
  },
  {
   "cell_type": "markdown",
   "metadata": {},
   "source": [
    "## Texto 1"
   ]
  },
  {
   "cell_type": "code",
   "execution_count": 2,
   "metadata": {},
   "outputs": [
    {
     "name": "stdout",
     "output_type": "stream",
     "text": [
      "\tStadistics\n",
      "Longitud: 35667\tMedia: 1321.0\t Indice de coin.: 0.07512619326167626\n",
      "Maximo: 4897\tMinimo: 0\tStandar: 1340.0875040528206\n"
     ]
    }
   ],
   "source": [
    "texto1 = fc.SustitutionText(\"IsmaelAntonio1.txt\")\n",
    "texto1.printStats()"
   ]
  },
  {
   "cell_type": "markdown",
   "metadata": {},
   "source": [
    "Como vemos, el índice de coincidencia del texto 2 es casi igual que el índice de coincidencia del español. Gracias a esto podemos descartar que el texto se haya cifrado usando un cifrado polialfabético. Luego suponemos que para el cifrado de este texto se ha usado o un cifrado del César o usando un cifrado por sustitución o de trasposición.\n",
    "Vamos a imprimir las frecuencias de aparición de las letras: "
   ]
  },
  {
   "cell_type": "code",
   "execution_count": 11,
   "metadata": {},
   "outputs": [
    {
     "name": "stdout",
     "output_type": "stream",
     "text": [
      "La frecuencia de aparición de las letras es:\n",
      " [ 933   37 1440  336 1603    0 1002 2260 2129 1853  603  176 4897 2529\n",
      " 1581  384 2539  155  315 2568  334 3089  244 4421    0  239    0] \n",
      "\n",
      "La función solveCesar devuelve: ModeResult(mode=array([8]), count=array([4]))\n"
     ]
    }
   ],
   "source": [
    "print (\"La frecuencia de aparición de las letras es:\\n {} \\n\".format(texto1.frec))\n",
    "print (\"La función solveCesar devuelve: {}\".format(texto1.solveCesar()))"
   ]
  },
  {
   "cell_type": "markdown",
   "metadata": {},
   "source": [
    "Como vemos, las frecuencias de aparición de las letras no corresponde a la del español (la H por es la letra que aparece más veces), por lo que descartamos que se haya cifrado usando trasposicion.\n",
    "\n",
    "La función solveCesar calcula el orden de las letras segun su frecuencia de aparicón en el texto, calcula la diferencia con la frecuencia normal del español y saca la moda de esas distancias. Teóricamente esta moda debe de repetirse para la gran mayoría de las letras, ya que la probabilidad de haber fallado (a la hora de asignar una letra del texto cifrado a la del español) es relativamente baja.\n",
    "Como vemos, el resultado de la función nos dice que la moda es 8 y ha aparecido 4 veces. Esto nos indica que hemos fallado en 23 ocasiones, una probabilidad bastante alta con lo que suponemos que este texto no se ha cifrado con César y por descarte suponemos que se cifró usando un cifrado por sustitución.\n",
    "\n",
    "Para descifrar este texto, hemos sustituido cada letra del texto por la letra en español siguiendo el orden de aparición, sustituyendo de la siguiente forma: "
   ]
  },
  {
   "cell_type": "code",
   "execution_count": null,
   "metadata": {},
   "outputs": [],
   "source": []
  },
  {
   "cell_type": "markdown",
   "metadata": {},
   "source": [
    "## Texto 2"
   ]
  },
  {
   "cell_type": "code",
   "execution_count": 4,
   "metadata": {},
   "outputs": [
    {
     "name": "stdout",
     "output_type": "stream",
     "text": [
      "\tStadistics\n",
      "Longitud: 18504\tMedia: 685.3333333333334\t Indice de coin.: 0.04037474648891958\n",
      "Maximo: 1117\tMinimo: 317\tStandar: 207.32708100612064\n"
     ]
    }
   ],
   "source": [
    "# Texto 2\n",
    "texto2 = fc.TextBase(\"IsmaelAntonio2.txt\")\n",
    "texto2.printStats()"
   ]
  },
  {
   "cell_type": "markdown",
   "metadata": {},
   "source": [
    "Como vemos, el indice de coincidencia de este texto es más bajo que el IC del español. Esto indica que se han homogeneizado las frecuencias de aparición de las letras. El único algoritmo de cifrado que hemos visto que provoque esto es el cifrado de Vignere.\n",
    "Comenzamos calculando la longitud de la clave con la función implementada:"
   ]
  },
  {
   "cell_type": "code",
   "execution_count": 5,
   "metadata": {},
   "outputs": [
    {
     "name": "stdout",
     "output_type": "stream",
     "text": [
      "14\n"
     ]
    }
   ],
   "source": [
    "print (fc.vignere_key_length(str(texto2)))"
   ]
  },
  {
   "cell_type": "markdown",
   "metadata": {},
   "source": [
    "Vemos que la longitud de la clave que se ha usado para cifrar tiene una longitud de 14 caracteres. "
   ]
  },
  {
   "cell_type": "markdown",
   "metadata": {},
   "source": [
    "## Texto 3"
   ]
  },
  {
   "cell_type": "code",
   "execution_count": 6,
   "metadata": {},
   "outputs": [
    {
     "name": "stdout",
     "output_type": "stream",
     "text": [
      "\tStadistics\n",
      "Longitud: 6731\tMedia: 249.2962962962963\t Indice de coin.: 0.07537222710207567\n",
      "Maximo: 927\tMinimo: 0\tStandar: 254.0816163441589\n"
     ]
    }
   ],
   "source": [
    "texto3 = fc.TextBase(\"IsmaelAntonio3.txt\")\n",
    "texto3.printStats()"
   ]
  },
  {
   "cell_type": "markdown",
   "metadata": {},
   "source": [
    "## Texto 4"
   ]
  },
  {
   "cell_type": "code",
   "execution_count": 7,
   "metadata": {},
   "outputs": [
    {
     "name": "stdout",
     "output_type": "stream",
     "text": [
      "\tStadistics\n",
      "Longitud: 3218\tMedia: 119.18518518518519\t Indice de coin.: 0.07697801823091396\n",
      "Maximo: 413\tMinimo: 0\tStandar: 124.21308961769331\n"
     ]
    }
   ],
   "source": [
    "texto4 = fc.TextBase(\"IsmaelAntonio4.txt\")\n",
    "texto4.printStats()"
   ]
  }
 ],
 "metadata": {
  "kernelspec": {
   "display_name": "Python 3",
   "language": "python",
   "name": "python3"
  },
  "language_info": {
   "codemirror_mode": {
    "name": "ipython",
    "version": 3
   },
   "file_extension": ".py",
   "mimetype": "text/x-python",
   "name": "python",
   "nbconvert_exporter": "python",
   "pygments_lexer": "ipython3",
   "version": "3.7.1"
  }
 },
 "nbformat": 4,
 "nbformat_minor": 2
}
