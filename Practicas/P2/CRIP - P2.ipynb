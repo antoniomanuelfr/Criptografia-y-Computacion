{
 "cells": [
  {
   "cell_type": "markdown",
   "metadata": {},
   "source": [
    "# Criptografía Practica 2"
   ]
  },
  {
   "cell_type": "code",
   "execution_count": 1,
   "metadata": {},
   "outputs": [],
   "source": [
    "import Funciones as fc \n",
    "import numpy as np"
   ]
  },
  {
   "cell_type": "markdown",
   "metadata": {},
   "source": [
    "## Texto 1"
   ]
  },
  {
   "cell_type": "code",
   "execution_count": 2,
   "metadata": {},
   "outputs": [
    {
     "name": "stdout",
     "output_type": "stream",
     "text": [
      "\tStadistics\n",
      "Longitud: 36669\tMedia: 1358.111111111111\t Indice de coin.: 0.07556177521787245\n",
      "Maximo: 4991\tMinimo: 0\tStandar: 1385.57195927205\n"
     ]
    }
   ],
   "source": [
    "texto1 = fc.SustitutionText(\"IsmaelAntonio1.txt\")\n",
    "texto1.printStats()"
   ]
  },
  {
   "cell_type": "markdown",
   "metadata": {},
   "source": [
    "Como vemos, el índice de coincidencia del texto 2 es casi igual que el índice de coincidencia del español. Gracias a esto podemos descartar que el texto se haya cifrado usando un cifrado polialfabético. Luego suponemos que para el cifrado de este texto se ha usado o un cifrado del César o usando un cifrado por sustitución o de trasposición.\n",
    "Vamos a imprimir las frecuencias de aparición de las letras: "
   ]
  },
  {
   "cell_type": "code",
   "execution_count": 3,
   "metadata": {},
   "outputs": [
    {
     "name": "stdout",
     "output_type": "stream",
     "text": [
      "La frecuencia de aparición de las letras es:\n",
      " [ 933   37 1440  336 1603    0 1002 2260 2386 1853  603  176 4991 2529\n",
      " 1638  384 2539  155  315 2568  334 3523  244 4520   61  239    0] \n",
      "\n",
      "La función solveCesar devuelve: ModeResult(mode=array([0]), count=array([3]))\n"
     ]
    }
   ],
   "source": [
    "print (\"La frecuencia de aparición de las letras es:\\n {} \\n\".format(texto1.frec))\n",
    "print (\"La función solveCesar devuelve: {}\".format(texto1.solveCesar()))"
   ]
  },
  {
   "cell_type": "markdown",
   "metadata": {},
   "source": [
    "Como vemos, las frecuencias de aparición de las letras no corresponde a la del español (la H por es la letra que aparece más veces), por lo que descartamos que se haya cifrado usando trasposicion.\n",
    "\n",
    "La función solveCesar calcula el orden de las letras segun su frecuencia de aparicón en el texto, calcula la diferencia con la frecuencia normal del español y saca la moda de esas distancias. Teóricamente esta moda debe de repetirse para la gran mayoría de las letras, ya que la probabilidad de haber fallado (a la hora de asignar una letra del texto cifrado a la del español) es relativamente baja.\n",
    "Como vemos, el resultado de la función nos dice que la moda es 8 y ha aparecido 4 veces. Esto nos indica que hemos fallado en 23 ocasiones, una probabilidad bastante alta con lo que suponemos que este texto no se ha cifrado con César y por descarte suponemos que se cifró usando un cifrado por sustitución.\n",
    "\n",
    "Para descifrar este texto, hemos sustituido cada letra del texto por la letra en español siguiendo el orden de aparición, sustituyendo de la siguiente forma: "
   ]
  },
  {
   "cell_type": "code",
   "execution_count": 4,
   "metadata": {},
   "outputs": [
    {
     "name": "stdout",
     "output_type": "stream",
     "text": [
      "M->E (0.13610952030325343)\n",
      "W->A (0.12326488314379994)\n",
      "U->O (0.09607570427336443)\n",
      "S->S (0.0700319070604598)\n",
      "P->R (0.06924104829692657)\n",
      "N->N (0.06896833837846683)\n",
      "I->I (0.06506858654449263)\n",
      "H->D (0.06163244157189997)\n",
      "J->L (0.050533147890588784)\n",
      "Ñ->C (0.04466988464370449)\n",
      "E->T (0.04371539992909542)\n",
      "C->U (0.03927022825820175)\n",
      "G->M (0.027325533829665384)\n",
      "A->P (0.025443835392293217)\n",
      "K->B (0.016444408083121982)\n",
      "O->G (0.0104720608688538)\n",
      "D->Y (0.009163053260247075)\n",
      "T->V (0.009108511276555127)\n",
      "R->Q (0.008590362431481632)\n",
      "V->H (0.006654122010417519)\n",
      "Y->F (0.006517767051187652)\n",
      "L->Z (0.004799694564891325)\n",
      "Q->J (0.0042270037361258825)\n",
      "X->Ñ (0.0016635305026043796)\n",
      "B->X (0.0010090266983010172)\n",
      "F->W (0.0)\n",
      "Z->K (0.0)\n"
     ]
    }
   ],
   "source": [
    "texto1.printPerm()"
   ]
  },
  {
   "cell_type": "markdown",
   "metadata": {},
   "source": [
    "Tras estar buscando palabras casi descifradas para ir ajustando el diccionario, el resultado fue: \n",
    "M->A (0.13729778226371717)\n",
    "W->E (0.12395211259707853)\n",
    "U->O (0.08660666722740909)\n",
    "S->N (0.07199932710909245)\n",
    "P->S (0.07118625059578883)\n",
    "N->R (0.07090587938430482)\n",
    "H->L (0.0633638937953851)\n",
    "I->I (0.05969103092494463)\n",
    "J->D (0.05195278548798609)\n",
    "E->C (0.044943505200885976)\n",
    "Ñ->U (0.04432668853562116)\n",
    "C->T (0.040373454453696694)\n",
    "G->P (0.028093195390697285)\n",
    "A->M (0.02615863403145765)\n",
    "K->B (0.01690638405248549)\n",
    "O->V (0.010766254520985785)\n",
    "D->G (0.009420472705862562)\n",
    "T->Q (0.009364398463565762)\n",
    "R->H (0.008831693161746153)\n",
    "V->Y (0.006841057560209717)\n",
    "Y->F (0.0067008719544677155)\n",
    "L->J (0.004934533322118485)\n",
    "Q->Z (0.004345753778002075)\n",
    "B->Ñ (0.0010373734824908178)\n",
    "F->X (0.0)\n",
    "X->W (0.0)\n",
    "Z->K (0.0)\n",
    "\n",
    "Y el texto descifrado es un fragmento de la obra \"Cien años de soledad\" escrito por Gabriel García Márquez "
   ]
  },
  {
   "cell_type": "markdown",
   "metadata": {},
   "source": [
    "## Texto 2"
   ]
  },
  {
   "cell_type": "code",
   "execution_count": 5,
   "metadata": {},
   "outputs": [
    {
     "name": "stdout",
     "output_type": "stream",
     "text": [
      "\tStadistics\n",
      "Longitud: 18504\tMedia: 685.3333333333334\t Indice de coin.: 0.04037474648891958\n",
      "Maximo: 1117\tMinimo: 317\tStandar: 207.32708100612064\n"
     ]
    }
   ],
   "source": [
    "# Texto 2\n",
    "texto2 = fc.SustitutionText(\"IsmaelAntonio2.txt\")\n",
    "texto2.printStats()"
   ]
  },
  {
   "cell_type": "markdown",
   "metadata": {},
   "source": [
    "Como vemos, el indice de coincidencia de este texto es más bajo que el IC del español. Esto indica que se han homogeneizado las frecuencias de aparición de las letras. El único algoritmo de cifrado que hemos visto que provoque esto es el cifrado de Vignere.\n",
    "Comenzamos calculando la longitud de la clave con la función implementada:"
   ]
  },
  {
   "cell_type": "code",
   "execution_count": 6,
   "metadata": {},
   "outputs": [
    {
     "name": "stdout",
     "output_type": "stream",
     "text": [
      "14\n"
     ]
    }
   ],
   "source": [
    "print (fc.vignere_key_length(str(texto2)))"
   ]
  },
  {
   "cell_type": "markdown",
   "metadata": {},
   "source": [
    "Vemos que la longitud de la clave que se ha usado para cifrar tiene una longitud de 14 caracteres. \n",
    "Sabiendo esto, lo unico que tenemos que hacer es prácticamente resolver un César, sabiendo que para cifrar se ha ido cogiendo las letras de 14 en 14 y cifrandose con las letras de la clave. Asi que para resolverlo: "
   ]
  },
  {
   "cell_type": "code",
   "execution_count": 7,
   "metadata": {},
   "outputs": [
    {
     "name": "stdout",
     "output_type": "stream",
     "text": [
      "ModeResult(mode=array([7]), count=array([8]))\n",
      "ModeResult(mode=array([4]), count=array([10]))\n",
      "ModeResult(mode=array([11]), count=array([8]))\n",
      "ModeResult(mode=array([8]), count=array([12]))\n",
      "ModeResult(mode=array([15]), count=array([12]))\n",
      "ModeResult(mode=array([2]), count=array([5]))\n",
      "ModeResult(mode=array([4]), count=array([12]))\n",
      "ModeResult(mode=array([13]), count=array([11]))\n",
      "ModeResult(mode=array([20]), count=array([11]))\n",
      "ModeResult(mode=array([18]), count=array([9]))\n",
      "ModeResult(mode=array([8]), count=array([12]))\n",
      "ModeResult(mode=array([19]), count=array([12]))\n",
      "ModeResult(mode=array([12]), count=array([11]))\n",
      "ModeResult(mode=array([15]), count=array([7]))\n"
     ]
    }
   ],
   "source": [
    "for i in texto2.frecuenciasVigenere(14):\n",
    "    print (texto2.solveCesar(np.argsort(i)[::-1]))"
   ]
  },
  {
   "cell_type": "markdown",
   "metadata": {},
   "source": [
    "Y con lo anterior tenemos que la clave es Heliocentrismo"
   ]
  },
  {
   "cell_type": "markdown",
   "metadata": {},
   "source": [
    "## Texto 3"
   ]
  },
  {
   "cell_type": "code",
   "execution_count": 8,
   "metadata": {},
   "outputs": [
    {
     "name": "stdout",
     "output_type": "stream",
     "text": [
      "\tStadistics\n",
      "Longitud: 6731\tMedia: 249.2962962962963\t Indice de coin.: 0.07537222710207567\n",
      "Maximo: 927\tMinimo: 0\tStandar: 254.0816163441589\n"
     ]
    }
   ],
   "source": [
    "texto3 = fc.SustitutionText(\"IsmaelAntonio3.txt\")\n",
    "texto3.printStats()"
   ]
  },
  {
   "cell_type": "markdown",
   "metadata": {},
   "source": [
    "Seguimos el procedimiento del texto 1: "
   ]
  },
  {
   "cell_type": "code",
   "execution_count": 9,
   "metadata": {},
   "outputs": [
    {
     "name": "stdout",
     "output_type": "stream",
     "text": [
      "La frecuencia de aparición de las letras es:\n",
      " [792  79 262 324 927  41  64  61 395  22   0 342 211 477  10 616 157  85\n",
      " 450 617 318 303  71   0   6  81  20] \n",
      "\n",
      "La función solveCesar devuelve: ModeResult(mode=array([0]), count=array([12]))\n"
     ]
    }
   ],
   "source": [
    "print (\"La frecuencia de aparición de las letras es:\\n {} \\n\".format(texto3.frec))\n",
    "print (\"La función solveCesar devuelve: {}\".format(texto3.solveCesar()))"
   ]
  },
  {
   "cell_type": "markdown",
   "metadata": {},
   "source": [
    "Esto nos dice que no se ha cambiado el valor de las letras, si no la posición de las mismas. El único cifrado que provoca esto es el de trasposición."
   ]
  },
  {
   "cell_type": "code",
   "execution_count": null,
   "metadata": {},
   "outputs": [],
   "source": []
  },
  {
   "cell_type": "markdown",
   "metadata": {},
   "source": [
    "## Texto 4"
   ]
  },
  {
   "cell_type": "code",
   "execution_count": 10,
   "metadata": {},
   "outputs": [
    {
     "name": "stdout",
     "output_type": "stream",
     "text": [
      "\tStadistics\n",
      "Longitud: 3218\tMedia: 119.18518518518519\t Indice de coin.: 0.07697801823091396\n",
      "Maximo: 413\tMinimo: 0\tStandar: 124.21308961769331\n"
     ]
    }
   ],
   "source": [
    "texto4 = fc.SustitutionText(\"IsmaelAntonio4.txt\")\n",
    "texto4.printStats()"
   ]
  },
  {
   "cell_type": "code",
   "execution_count": 11,
   "metadata": {},
   "outputs": [
    {
     "name": "stdout",
     "output_type": "stream",
     "text": [
      "La frecuencia de aparición de las letras es:\n",
      " [ 17 279  58  24 213 313 159 107  19   0  10  32   8 394  46 112 145 413\n",
      "  21  35  23 228  18   0 134 109 301] \n",
      "\n",
      "La función solveCesar devuelve: ModeResult(mode=array([13]), count=array([8]))\n"
     ]
    }
   ],
   "source": [
    "print (\"La frecuencia de aparición de las letras es:\\n {} \\n\".format(texto4.frec))\n",
    "print (\"La función solveCesar devuelve: {}\".format(texto4.solveCesar()))"
   ]
  },
  {
   "cell_type": "markdown",
   "metadata": {},
   "source": [
    "Como vemos, en este caso se repite más veces la moda que en el texto 1. Probamos a resolver el texto con un César de 13:"
   ]
  },
  {
   "cell_type": "code",
   "execution_count": 13,
   "metadata": {},
   "outputs": [
    {
     "name": "stdout",
     "output_type": "stream",
     "text": [
      "SEESTIMAQUEUNMILLONDEMENORESTRABAJANACTUALMENTEENM\n"
     ]
    }
   ],
   "source": [
    "print (texto4.decodeCesar(13)[:50])"
   ]
  },
  {
   "cell_type": "code",
   "execution_count": null,
   "metadata": {},
   "outputs": [],
   "source": []
  }
 ],
 "metadata": {
  "kernelspec": {
   "display_name": "Python 3",
   "language": "python",
   "name": "python3"
  },
  "language_info": {
   "codemirror_mode": {
    "name": "ipython",
    "version": 3
   },
   "file_extension": ".py",
   "mimetype": "text/x-python",
   "name": "python",
   "nbconvert_exporter": "python",
   "pygments_lexer": "ipython3",
   "version": "3.7.1"
  }
 },
 "nbformat": 4,
 "nbformat_minor": 2
}
