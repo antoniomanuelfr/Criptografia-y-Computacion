{
 "cells": [
  {
   "cell_type": "markdown",
   "metadata": {},
   "source": [
    "# Criptografía Practica 2"
   ]
  },
  {
   "cell_type": "code",
   "execution_count": 4,
   "metadata": {},
   "outputs": [],
   "source": [
    "import Funciones as fc "
   ]
  },
  {
   "cell_type": "markdown",
   "metadata": {},
   "source": [
    "## Texto 1"
   ]
  },
  {
   "cell_type": "code",
   "execution_count": 10,
   "metadata": {},
   "outputs": [
    {
     "name": "stdout",
     "output_type": "stream",
     "text": [
      "\tStadistics\n",
      "Longitud: 35667\tMedia: 1321.0\t Indice de coin.: 0.07512619326167626\n",
      "Maximo: 4897\tMinimo: 0\tStandar: 1340.0875040528206\n"
     ]
    }
   ],
   "source": [
    "texto1 = fc.TextBase(\"IsmaelAntonio1.txt\")\n",
    "texto1.printStats()"
   ]
  },
  {
   "cell_type": "markdown",
   "metadata": {},
   "source": [
    "Como vemos, el índice de coincidencia del texto 2 es casi igual que el índice de coincidencia del español. Gracias a esto podemos descartar que el texto se haya cifrado usando un cifrado polialfabético. Luego suponemos que para el cifrado de este texto se ha usado o un cifrado del César o usando un cifrado por sustitución.\n",
    "\n",
    "Una vez que sabemos esto, vamos a suponer que se ha cifrado usando César.\n",
    "Comenzamos obteniendo el análisis de frecuencias del texto: \n"
   ]
  },
  {
   "cell_type": "code",
   "execution_count": 11,
   "metadata": {},
   "outputs": [
    {
     "name": "stdout",
     "output_type": "stream",
     "text": [
      "[ 933   37 1440  336 1603    0 1002 2260 2129 1853  603  176 4897 2529\n",
      " 1581  384 2539  155  315 2568  334 3089  244 4421    0  239    0]\n"
     ]
    }
   ],
   "source": [
    "print (texto1.frec)"
   ]
  },
  {
   "cell_type": "markdown",
   "metadata": {},
   "source": [
    "Viendo la tabla de frecuencias, la letra que más veces aparece en el primer texto es la letra M. Luego suponemos que la letra que más se repite en español (E) se ha cifrado como la letra M. Esto nos dice que el número de posiciones que se han movido las letras del texto es de 8 veces. Luego desciframos el texto suponiendo que ha sido cifrado con un César de 8."
   ]
  },
  {
   "cell_type": "code",
   "execution_count": null,
   "metadata": {},
   "outputs": [],
   "source": []
  },
  {
   "cell_type": "markdown",
   "metadata": {},
   "source": [
    "Como vemos, parece que "
   ]
  }
 ],
 "metadata": {
  "kernelspec": {
   "display_name": "Python 3",
   "language": "python",
   "name": "python3"
  },
  "language_info": {
   "codemirror_mode": {
    "name": "ipython",
    "version": 3
   },
   "file_extension": ".py",
   "mimetype": "text/x-python",
   "name": "python",
   "nbconvert_exporter": "python",
   "pygments_lexer": "ipython3",
   "version": "3.7.1"
  }
 },
 "nbformat": 4,
 "nbformat_minor": 2
}
