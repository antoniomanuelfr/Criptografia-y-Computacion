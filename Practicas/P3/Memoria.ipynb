{
 "cells": [
  {
   "cell_type": "markdown",
   "metadata": {},
   "source": [
    "# Practica 3"
   ]
  },
  {
   "cell_type": "markdown",
   "metadata": {},
   "source": [
    "## Logaritmo discreto\n",
    "\n",
    "Para ver como evolucionan los algoritmos que hemos estudiado para solucionar el problema del logaritmo discreto, se ha escogido un primo de 10 bits y se ha ido llamando a la función que calcula el siguiente primo para la iteración siguiente. Se ha guardado el tiempo que tarda y se ha puesto una gráfica donde en el eje X tenemos el primo correspondiente al cuerpo donde se estan haciendo las operaciones y en el eje de ordenadas el tiempo que ha tardado"
   ]
  },
  {
   "cell_type": "code",
   "execution_count": 1,
   "metadata": {},
   "outputs": [],
   "source": [
    "import matplotlib.pyplot as plt\n",
    "%matplotlib inline\n",
    "import util.math as mt\n",
    "import util.primality as pr\n",
    "import logaritmo as lg\n",
    "from time import time\n",
    "import random"
   ]
  },
  {
   "cell_type": "code",
   "execution_count": null,
   "metadata": {},
   "outputs": [],
   "source": [
    "n_iters = 12\n",
    "primos_bf = []\n",
    "tiempos_bf = []\n",
    "bits = 5\n",
    "paso = 2\n",
    "p_n = pr.next_prime(2**bits)\n",
    "\n",
    "for i in range (n_iters):\n",
    "    primos_bf.append(p_n)\n",
    "    time_1 = time()\n",
    "    lg.log_bf(random.randint(2,p_n-1),random.randint(2,p_n-1),p_n)\n",
    "    time_2 = time()\n",
    "    tiempos_bf.append(time_2-time_1)\n",
    "    bits+=paso\n",
    "    p_n = pr.next_prime(2**bits)\n",
    "    \n",
    "plt.xlabel('Primo')\n",
    "plt.ylabel('Tiempo en segundos')\n",
    "plt.plot(primos_bf,tiempos_bf)"
   ]
  },
  {
   "cell_type": "code",
   "execution_count": null,
   "metadata": {},
   "outputs": [],
   "source": [
    "n_iters = 17\n",
    "primos_pe = []\n",
    "tiempos_pe = []\n",
    "bits = 5\n",
    "paso = 2\n",
    "p_n = pr.next_prime_strong(2**bits)\n",
    "\n",
    "for i in range (n_iters):\n",
    "    time_1 = time()\n",
    "    b = random.randint(2,p_n-2)\n",
    "    \n",
    "    res = lg.log_pe_pg((p-1)//2,b,p_n)\n",
    "    time_2 = time()\n",
    "    \n",
    "    primos_pe.append(p_n)\n",
    "    tiempos_pe.append(time_2-time_1)\n",
    "\n",
    "    bits+=paso\n",
    "    p_n = pr.next_prime_strong(2**bits)\n",
    "    \n",
    "plt.xlabel('Primo')\n",
    "plt.ylabel('Tiempo en segundos')\n",
    "plt.plot(primos_pe,tiempos_pe)"
   ]
  },
  {
   "cell_type": "code",
   "execution_count": null,
   "metadata": {},
   "outputs": [],
   "source": [
    "n_iters = 30\n",
    "primos_ro = []\n",
    "tiempos_ro = []\n",
    "bits = 5\n",
    "paso = 2\n",
    "p_n = pr.next_prime(2**bits)\n",
    "\n",
    "for i in range (n_iters):\n",
    "    \n",
    "    time_1 = time()\n",
    "    a = random.randint(2,p_n-2)\n",
    "    res = lg.log_ro_pollard(10,a,p_n)\n",
    "    time_2 = time()\n",
    "    if res !=[0]:\n",
    "        primos_ro.append(p_n)\n",
    "        tiempos_ro.append(time_2-time_1)\n",
    "    \n",
    "    bits+=paso\n",
    "    p_n = pr.next_prime(2**bits)\n",
    "    \n",
    "plt.xlabel('Primo')\n",
    "plt.ylabel('Tiempo en segundos')\n",
    "plt.plot(primos_ro,tiempos_ro)"
   ]
  }
 ],
 "metadata": {
  "kernelspec": {
   "display_name": "Python 3",
   "language": "python",
   "name": "python3"
  },
  "language_info": {
   "codemirror_mode": {
    "name": "ipython",
    "version": 3
   },
   "file_extension": ".py",
   "mimetype": "text/x-python",
   "name": "python",
   "nbconvert_exporter": "python",
   "pygments_lexer": "ipython3",
   "version": "3.7.2"
  }
 },
 "nbformat": 4,
 "nbformat_minor": 2
}
